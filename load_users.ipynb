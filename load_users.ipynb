{
 "cells": [
  {
   "cell_type": "code",
   "execution_count": null,
   "metadata": {
    "collapsed": true
   },
   "outputs": [],
   "source": [
    "import json\n",
    "import sqlite3"
   ]
  },
  {
   "cell_type": "code",
   "execution_count": null,
   "metadata": {
    "collapsed": false
   },
   "outputs": [],
   "source": [
    "db_file = 'C:/Users/david/Documents/Big Data/Yelp/yelp.sqlite'\n",
    "file_dir = '/Users/david/Documents/Big Data/Yelp/yelp_academic_dataset_user.json'\n",
    "insert_script_template = 'INSERT INTO {} ({}) VALUES (?{});'  # template for insert command\n",
    "table_scripts = {}  # dictionary of create table scripts for each table\n",
    "ignored_keys = {}   # dictionary of keys ignored by each table\n",
    "string_values = {}  # dictionary of values that need to be converted to strings to input into table"
   ]
  },
  {
   "cell_type": "code",
   "execution_count": null,
   "metadata": {
    "collapsed": false
   },
   "outputs": [],
   "source": [
    "# connect to database\n",
    "connection = sqlite3.connect(db_file)\n",
    "cursor = connection.cursor()"
   ]
  },
  {
   "cell_type": "code",
   "execution_count": null,
   "metadata": {
    "collapsed": true
   },
   "outputs": [],
   "source": [
    "with open(file_dr) as file\n",
    "    for i in range(5):\n",
    "        print file.readline()"
   ]
  },
  {
   "cell_type": "markdown",
   "metadata": {},
   "source": [
    "# Creating users table"
   ]
  },
  {
   "cell_type": "code",
   "execution_count": null,
   "metadata": {
    "collapsed": false
   },
   "outputs": [],
   "source": [
    "# user table constants\n",
    "table_scripts['users'] = '''CREATE TABLE users               \n",
    "                           (user_id            varchar(22) NOT NULL PRIMARY KEY,  \n",
    "                            name               varchar(32) NOT NULL,\n",
    "                            review_count       int(10)     NOT NULL, \n",
    "                            yelping_since      date        NOT NULL, \n",
    "                            useful             int(10)     NOT NULL, \n",
    "                            funny              int(10)     NOT NULL, \n",
    "                            cool               int(10)     NOT NULL, \n",
    "                            fans               int(10)     NOT NULL, \n",
    "                            average_stars      FLOAT(3,2)  NOT NULL, \n",
    "                            compliment_hot     int(5)      NOT NULL, \n",
    "                            compliment_more    int(5)      NOT NULL, \n",
    "                            compliment_profile int(5)      NOT NULL, \n",
    "                            compliment_cute    int(5)      NOT NULL, \n",
    "                            compliment_list    int(5)      NOT NULL, \n",
    "                            compliment_note    int(5)      NOT NULL, \n",
    "                            compliment_plain   int(5)      NOT NULL, \n",
    "                            compliment_cool    int(5)      NOT NULL, \n",
    "                            compliment_funny   int(5)      NOT NULL, \n",
    "                            compliment_writer  int(5)      NOT NULL, \n",
    "                            compliment_photos  int(5)      NOT NULL, \n",
    "                            type               varchar(20) NOT NULL )'''\n",
    "ignored_keys['users'] = ['friends', 'elite']\n",
    "string_values = ['user_id', 'name', 'type', 'yelping_since']"
   ]
  },
  {
   "cell_type": "code",
   "execution_count": null,
   "metadata": {
    "collapsed": false
   },
   "outputs": [],
   "source": [
    "# makes tables\n",
    "try:\n",
    "    cursor.execute(table_scripts['users'])\n",
    "except sqlite3.Error as error:\n",
    "    print('An error occurred when making table -', error)"
   ]
  },
  {
   "cell_type": "code",
   "execution_count": null,
   "metadata": {
    "collapsed": false,
    "scrolled": false
   },
   "outputs": [],
   "source": [
    "#inserts rows\n",
    "with open(file_dir, 'r', encoding=\"utf8\") as file:  # encoding specified since I was running into errors when I didn't\n",
    "    columns = [key for key in json.loads(file.readline()) if key not in ignored_keys['users']]  # used column names\n",
    "    file.seek(0)  # returns to beginning of file\n",
    "    for line in file:\n",
    "        user = json.loads(line)\n",
    "        data = []\n",
    "        for key in user:\n",
    "            if key not in ignored_keys['users']:\n",
    "                if key in string_values:\n",
    "                    data.append(str(user[key]))  \n",
    "                else:                               \n",
    "                    data.append(user[key])\n",
    "        cursor.execute(insert_script_template.format('users', ','.join(columns), ', ?' * (len(columns)-1)), data)\n",
    "    connection.commit()"
   ]
  },
  {
   "cell_type": "code",
   "execution_count": null,
   "metadata": {
    "collapsed": false
   },
   "outputs": [],
   "source": [
    "# to check if users loaded properly\n",
    "cursor.execute('SELECT * FROM {} LIMIT 10'.format('users'))\n",
    "for user in cursor.fetchall():\n",
    "    print(user, '\\n')"
   ]
  },
  {
   "cell_type": "markdown",
   "metadata": {},
   "source": [
    "# Creating friends table - works untill here"
   ]
  },
  {
   "cell_type": "code",
   "execution_count": null,
   "metadata": {
    "collapsed": false
   },
   "outputs": [],
   "source": [
    "# creates set friend pairs which consists of sets of friend pairs so that duplicates don't occure\n",
    "# also takes too long hence the if False to make code skip\n",
    "if False:\n",
    "    friend_pairs = set([])\n",
    "    with open(file_dir, encoding='utf8') as file:\n",
    "        for line in file:\n",
    "            user = json.loads(line)\n",
    "            for friend in user['friends']:\n",
    "                friend_pairs.add(frozenset((user['user_id'], friend)))"
   ]
  },
  {
   "cell_type": "code",
   "execution_count": null,
   "metadata": {
    "collapsed": true
   },
   "outputs": [],
   "source": [
    "def binary_search(lst, element):\n",
    "    \"\"\"searches for the element in a sorted list\"\"\"\n",
    "    length = len(lst)\n",
    "    if length is 0:\n",
    "        return False\n",
    "    else:\n",
    "        half = length//2\n",
    "        if lst[half]==element:\n",
    "            return True\n",
    "        elif element<lst[half]:\n",
    "            return binary_search(lst[:half], element)\n",
    "        else:\n",
    "            return binary_search(lst[half + 1:], element)"
   ]
  },
  {
   "cell_type": "code",
   "execution_count": null,
   "metadata": {
    "collapsed": true
   },
   "outputs": [],
   "source": [
    "def insert_friend(user_id, friend_id):\n",
    "    cursor.execute(insert_script_template.format('friends', 'user_id, friend_id', ', ?'),\n",
    "                                  [user_id, friend_id])"
   ]
  },
  {
   "cell_type": "code",
   "execution_count": null,
   "metadata": {
    "collapsed": false
   },
   "outputs": [],
   "source": [
    "# get list of all user_ids in users\n",
    "cursor.execute(\"SELECT user_id FROM {}\".format('users'))\n",
    "user_ids = sorted([user_id[0].replace(\"-\", \"\") for user_id in cursor.fetchall()])"
   ]
  },
  {
   "cell_type": "code",
   "execution_count": null,
   "metadata": {
    "collapsed": false
   },
   "outputs": [],
   "source": [
    "#can't get foreign key syntax to work - FORIEGN KEY (user_id) REFERENCES users(user_id)\n",
    "try: cursor.execute('''CREATE TABLE friends\n",
    "            ( user_id char(22) NOT NULL,\n",
    "            friend_id char(22) NOT NULL,\n",
    "            FORIEGN KEY (user_id) REFERENCES users(user_id),\n",
    "            PRIMARY KEY (user_id, friend_id))''')\n",
    "except sqlite3.Error as error:\n",
    "    print('An error occurred when making table -', error)"
   ]
  },
  {
   "cell_type": "code",
   "execution_count": null,
   "metadata": {
    "collapsed": false,
    "scrolled": true
   },
   "outputs": [],
   "source": [
    "with open(file_dir, encoding='utf8') as file:\n",
    "    for line in file:\n",
    "        user = json.loads(line)\n",
    "        for friend in user['friends']:\n",
    "            if binary_search(user_ids, friend):  # avoids duplicate listings which can only occure if the friend is in\n",
    "                if friend>user['user_id']:       # the user list by forcing an arbitrary ordering in that case\n",
    "                    insert_friend(user['user_id'], friend)\n",
    "                    print('inserting ', friend)\n",
    "            else:\n",
    "                insert_friend(user['user_id'], friend)\n",
    "                print('inserting ', friend)\n",
    "            \n",
    "    connection.commit()"
   ]
  },
  {
   "cell_type": "code",
   "execution_count": null,
   "metadata": {
    "collapsed": true
   },
   "outputs": [],
   "source": [
    "connection.commit()"
   ]
  },
  {
   "cell_type": "markdown",
   "metadata": {},
   "source": [
    "# Creating elite table"
   ]
  },
  {
   "cell_type": "code",
   "execution_count": null,
   "metadata": {
    "collapsed": true
   },
   "outputs": [],
   "source": [
    "#list of all years that a user can be an elit during\n",
    "with open(file_dir, enconding='utf8') as file:\n",
    "    years_lst = []\n",
    "    for line in file:\n",
    "        user = json.loads(line)\n",
    "        for year in user['elite']:\n",
    "            if year not in years_lst:\n",
    "                years_lst.append(year)"
   ]
  },
  {
   "cell_type": "code",
   "execution_count": null,
   "metadata": {
    "collapsed": true
   },
   "outputs": [],
   "source": [
    "try: cursor.execute('''CREATE TABLE years_elite\n",
    "                        (user_id varchar(22) NOT NULL,\n",
    "                        {})'''.format(', '.join('{} int DEFAULT 0'.format(year) for year in years_lst)))\n",
    "except sqlite3.Error as error:\n",
    "    print('An error occurred when making table -', error)"
   ]
  },
  {
   "cell_type": "code",
   "execution_count": null,
   "metadata": {
    "collapsed": true
   },
   "outputs": [],
   "source": [
    "with open(file_dir, encoding='utf8') as file:\n",
    "    for line in file:\n",
    "        elite_years = json.loads(line)['elite']\n",
    "        cursor.execute(insert_script_template.format('friends', ', '.join(elite_years), ', ?' * (len(elite_years) - 1)),\n",
    "                        [1]*len(elite_years))\n",
    "    cursor.commit()"
   ]
  },
  {
   "cell_type": "code",
   "execution_count": null,
   "metadata": {
    "collapsed": true
   },
   "outputs": [],
   "source": [
    "conection.close()"
   ]
  }
 ],
 "metadata": {
  "kernelspec": {
   "display_name": "Python 3",
   "language": "python",
   "name": "python3"
  },
  "language_info": {
   "codemirror_mode": {
    "name": "ipython",
    "version": 3
   },
   "file_extension": ".py",
   "mimetype": "text/x-python",
   "name": "python",
   "nbconvert_exporter": "python",
   "pygments_lexer": "ipython3",
   "version": "3.6.0"
  }
 },
 "nbformat": 4,
 "nbformat_minor": 2
}
