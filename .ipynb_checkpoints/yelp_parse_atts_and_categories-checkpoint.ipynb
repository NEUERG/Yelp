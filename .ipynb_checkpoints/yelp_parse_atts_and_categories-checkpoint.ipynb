{
 "cells": [
  {
   "cell_type": "markdown",
   "metadata": {},
   "source": [
    "## This notebook cleans the nested list of strings in the categories and attributes fields for the yelp business data. \n",
    "\n",
    "### Categories is always a list of strings. This is parsed by getting all categories, and then calling the uniqify function on them.\n",
    "\n",
    "### Attributes is a strange list of strings in the shape of a nested dictionary (see the printed output when you run this script). This requires parsing into a dictionary and then scraping the nested dictionaries onto the same level. \n",
    "\n",
    "### This script should show the final fields for categories and attributes (it looks like a lot)"
   ]
  },
  {
   "cell_type": "code",
   "execution_count": null,
   "metadata": {
    "collapsed": false
   },
   "outputs": [],
   "source": [
    "import json # To parse json files"
   ]
  },
  {
   "cell_type": "code",
   "execution_count": null,
   "metadata": {
    "collapsed": true
   },
   "outputs": [],
   "source": [
    "# Configure this for your local path\n",
    "dirpath = 'C:\\\\Users\\\\Jason\\\\Desktop\\\\Yelp\\\\'\n",
    "file = 'yelp_academic_dataset_business.json'\n",
    "filepath = dirpath + file"
   ]
  },
  {
   "cell_type": "code",
   "execution_count": null,
   "metadata": {
    "collapsed": false
   },
   "outputs": [],
   "source": [
    "# Returns a dictionary containing all attributes on a single level, calls helper to parse nested atts\n",
    "def ParseAtt(Atts):\n",
    "    newDict = {}\n",
    "    i = 0\n",
    "    for field in Atts:\n",
    "        fieldAtts = field.split()\n",
    "        length = len(fieldAtts)\n",
    "        if length is 2:\n",
    "            # insert into dictionary dict[key] = data\n",
    "            # 1 is of the form \"data:\", take substring -> \"data\"\n",
    "            length = len(fieldAtts[0])\n",
    "            key = fieldAtts[0][0:length - 1]\n",
    "            data = fieldAtts[1]\n",
    "            newDict[key] = data\n",
    "        else:\n",
    "            # If nested dict\n",
    "            newDict.update(ParseHelp(fieldAtts))\n",
    "        i = i + 1\n",
    "    return newDict"
   ]
  },
  {
   "cell_type": "code",
   "execution_count": null,
   "metadata": {
    "collapsed": false
   },
   "outputs": [],
   "source": [
    "# Parses nested list of strings into dictionary, returns the dictionary\n",
    "# Which is then updated into the main dictionary containing all of the attributes\n",
    "def ParseHelp(listAtts):\n",
    "    newDict = {}\n",
    "    # Clean the data\n",
    "    listAtts = list(map(clean, listAtts))\n",
    "    masterKey = listAtts[0]\n",
    "    # Master key is added on to each key in the dict\n",
    "    keyWordLen = len(listAtts[0])\n",
    "    keyWord = listAtts[0][0:keyWordLen - 1]\n",
    "    # Every other string\n",
    "    for i in range(1, len(listAtts), 2):\n",
    "        newWord = listAtts[i]\n",
    "        newDict[masterKey + '_' + newWord] = listAtts[i + 1]\n",
    "    return newDict"
   ]
  },
  {
   "cell_type": "code",
   "execution_count": null,
   "metadata": {
    "collapsed": false
   },
   "outputs": [],
   "source": [
    "# Cleans a string to take away various characters present in the default strings\n",
    "def clean(string):\n",
    "    clear = string\n",
    "    clear = clear.replace('{', '')\n",
    "    clear = clear.replace('}', '')\n",
    "    clear = clear.replace(',', '')\n",
    "    clear = clear.replace(\"'\", '')\n",
    "    clear = clear.replace(':', '')\n",
    "    return clear"
   ]
  },
  {
   "cell_type": "code",
   "execution_count": null,
   "metadata": {
    "collapsed": false
   },
   "outputs": [],
   "source": [
    "# Get all attributes and convert them into a dictionary\n",
    "attribs = []\n",
    "with open(filepath, encoding=\"utf8\") as f:\n",
    "    data = f.readlines()\n",
    "    i = 0\n",
    "    for line in data:\n",
    "        dataPoint = json.loads(line)\n",
    "        if dataPoint['attributes'] != None:\n",
    "            attribs += (dataPoint['attributes'])\n",
    "        i+=1\n",
    "        if i>1000:\n",
    "            break\n",
    "parsedAtt = ParseAtt(attribs)\n",
    "print(\"Original \\n\")\n",
    "print(attribs)\n",
    "print(\"Parsed \\n\")\n",
    "print(parsedAtt)"
   ]
  },
  {
   "cell_type": "code",
   "execution_count": null,
   "metadata": {
    "collapsed": true
   },
   "outputs": [],
   "source": [
    "def uniqify(data): \n",
    "    unique = []\n",
    "    [unique.append(i) for i in data if not unique.count(i)]\n",
    "    return unique"
   ]
  },
  {
   "cell_type": "code",
   "execution_count": null,
   "metadata": {
    "collapsed": false
   },
   "outputs": [],
   "source": [
    "# Check the format and size of the categories data\n",
    "cat = []\n",
    "with open(filepath, encoding=\"utf8\") as f:\n",
    "    data = f.readlines()\n",
    "    i = 0\n",
    "    for line in data:\n",
    "        dataPoint = json.loads(line)\n",
    "        if dataPoint['categories'] != None:\n",
    "            cat += dataPoint['categories']\n",
    "        i+=1\n",
    "        if i>1000:\n",
    "            break\n",
    "uniqueCat = uniqify(cat)\n",
    "print(uniqueCat)"
   ]
  },
  {
   "cell_type": "code",
   "execution_count": null,
   "metadata": {
    "collapsed": false
   },
   "outputs": [],
   "source": []
  },
  {
   "cell_type": "code",
   "execution_count": null,
   "metadata": {
    "collapsed": false
   },
   "outputs": [],
   "source": []
  },
  {
   "cell_type": "code",
   "execution_count": null,
   "metadata": {
    "collapsed": true
   },
   "outputs": [],
   "source": []
  },
  {
   "cell_type": "code",
   "execution_count": null,
   "metadata": {
    "collapsed": true
   },
   "outputs": [],
   "source": []
  },
  {
   "cell_type": "code",
   "execution_count": null,
   "metadata": {
    "collapsed": true
   },
   "outputs": [],
   "source": []
  },
  {
   "cell_type": "code",
   "execution_count": null,
   "metadata": {
    "collapsed": true
   },
   "outputs": [],
   "source": []
  }
 ],
 "metadata": {
  "kernelspec": {
   "display_name": "Python 3",
   "language": "python",
   "name": "python3"
  },
  "language_info": {
   "codemirror_mode": {
    "name": "ipython",
    "version": 3
   },
   "file_extension": ".py",
   "mimetype": "text/x-python",
   "name": "python",
   "nbconvert_exporter": "python",
   "pygments_lexer": "ipython3",
   "version": "3.6.0"
  }
 },
 "nbformat": 4,
 "nbformat_minor": 2
}
